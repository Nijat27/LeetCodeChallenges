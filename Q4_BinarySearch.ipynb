{
 "cells": [
  {
   "cell_type": "markdown",
   "id": "285dae2b",
   "metadata": {},
   "source": [
    "# LeetCode Q4: Median of Two Sorted Arrays"
   ]
  },
  {
   "cell_type": "markdown",
   "id": "1bcc496f",
   "metadata": {},
   "source": [
    "\n",
    "## Problem\n",
    "You are given two sorted arrays `nums1` and `nums2` of size `m` and `n` respectively, and you need to find the median of the two sorted arrays. The overall run-time complexity should be O(log(min(m, n))).\n",
    "   \n",
    "### Example:\n",
    "Input: `nums1 = [1, 3], nums2 = [2]`  \n",
    "Output: `2.0`\n",
    "\n",
    "Input: `nums1 = [1, 2], nums2 = [3, 4]`  \n",
    "Output: `2.5`\n",
    "\n",
    "### Constraints:\n",
    "- `nums1` and `nums2` are sorted arrays.\n",
    "- `0 <= m, n <= 1000`\n",
    "- `nums1` and `nums2` can have negative values.\n"
   ]
  },
  {
   "cell_type": "markdown",
   "id": "d33ca20e",
   "metadata": {},
   "source": [
    "\n",
    "## Recommended Data Structure\n",
    "This problem is best approached using **binary search** on the smaller of the two arrays to maintain the time complexity constraint of O(log(min(m, n))). Binary search enables us to quickly locate the partition points in both arrays that can yield the median.\n"
   ]
  },
  {
   "cell_type": "code",
   "execution_count": null,
   "id": "cd42a30c",
   "metadata": {},
   "outputs": [],
   "source": [
    "\n",
    "# Solution Logic:\n",
    "# 1. Perform binary search on the smaller of the two arrays, nums1.\n",
    "# 2. Partition A at index `splitA` and B at index `splitB` such that the left half has as many elements as the right half.\n",
    "# 3. The correct partition will satisfy the conditions:\n",
    "#    max of left side <= min of right side in both arrays.\n",
    "# 4. If the combined length of A and B is even, the median is the average of the two middle elements.\n",
    "#    Otherwise, the median is the maximum element in the left partition.\n",
    "# 5. Adjust `splitA` with binary search until the correct partition is found.\n"
   ]
  },
  {
   "cell_type": "code",
   "execution_count": null,
   "id": "a28a2297",
   "metadata": {},
   "outputs": [],
   "source": [
    "def findMedianSortedArrays(a, b):  # Example: a=[1, 3, 5], b=[2, 4, 6]\n",
    "    # Step 1: Ensure we always work with the shorter array for optimization\n",
    "    # - The binary search will be performed on the shorter array to reduce the search space.\n",
    "    if len(a) > len(b):\n",
    "        a,b = b,a\n",
    "\n",
    "    # Step 2: Define lengths of the two arrays\n",
    "    # - `lenA` and `lenB` are the lengths of `a` and `b`, respectively.\n",
    "    lenA, lenB = len(a), len(b)\n",
    "    \n",
    "    # Step 3: Initialize binary search pointers\n",
    "    # - `low` and `high` represent the search space in `a`.\n",
    "    low, high = 0, lenA\n",
    "\n",
    "    # Step 4: Perform binary search to find the correct partition\n",
    "    while low <= high:\n",
    "        # Split `a` at `splitA` and `b` at `splitB`\n",
    "        # - `splitA` is the midpoint in `a`, adjusted in each iteration.\n",
    "        # - `splitB` is calculated to ensure both partitions contain half the total elements.\n",
    "        splitA = (low + high) // 2  # a = [1,| 3,5]  splitA = 1\n",
    "        splitB = (lenA + lenB + 1) // 2 - splitA   # b = [2,4,| 6] splitB = 2\n",
    "\n",
    "        # Edge cases: Handle when partitions reach the boundaries\n",
    "\n",
    "        #     a=[       1(slitA-1),  |     3(splitA),  5]\n",
    "        #                  ↑                    ↑\n",
    "        #                maxLeftA           minRightA\n",
    "\n",
    "        #     b=[ 2,  4(splitB-1),   |     6(splitB) ]\n",
    "        #                 ↑                     ↑\n",
    "        #               maxLeftB            minRightB\n",
    "\n",
    "        # - `maxLeftA`: The left side's maximum in `a` or a very small number if split is at 0.\n",
    "        # - `minRightA`: The right side's minimum in `a` or a very large number if split is at the end.\n",
    "        maxLeftA = float('-inf') if splitA == 0 else a[splitA-1]\n",
    "        minRightA = float('inf') if splitA == lenA else a[splitA]\n",
    "        \n",
    "        # Similar boundaries for array `b`\n",
    "        maxLeftB = float('-inf') if splitB == 0 else b[splitB-1]\n",
    "        minRightB = float('inf') if splitB == lenB else b[splitB]\n",
    "        \n",
    "        # Step 5: Check if we have found the correct partition\n",
    "        if maxLeftA <= minRightB and maxLeftB <= minRightA:\n",
    "            # total left <= total right \n",
    "            # If the total length is even, average the two middle values.\n",
    "            if (lenA + lenB ) % 2 == 0:\n",
    "                return (max(maxLeftA, maxLeftB) + min(minRightA, minRightB))/2  \n",
    "            # If the total length is odd, return the maximum of the left side.\n",
    "            else:\n",
    "                return max(maxLeftA,maxLeftB)\n",
    "            \n",
    "        # Step 6: Adjust binary search range\n",
    "        elif maxLeftA > minRightB:  # splitA is far to the right \n",
    "        \n",
    "            # Move `right` to narrow down the search range to the left in `a`.\n",
    "            high = splitA - 1\n",
    "       \n",
    "            # Move `left` to search further to the right in `a`.\n",
    "        else: # maxLeftB > minRightA  splitA is fat to the left\n",
    "            low = splitA + 1 \n",
    "\n"
   ]
  },
  {
   "cell_type": "code",
   "execution_count": 2,
   "id": "c6261b14",
   "metadata": {},
   "outputs": [
    {
     "data": {
      "text/plain": [
       "3.5"
      ]
     },
     "execution_count": 2,
     "metadata": {},
     "output_type": "execute_result"
    }
   ],
   "source": [
    "a = [1,3,5]\n",
    "b = [2,4,6]\n",
    "findMedianSortedArrays(a,b)"
   ]
  },
  {
   "cell_type": "markdown",
   "id": "4e8ebef1",
   "metadata": {},
   "source": [
    "\n",
    "## Summary\n",
    "To find the median of two sorted arrays, we utilized binary search on the smaller array to identify a balanced partition across both arrays. This method ensures that we achieve the desired time complexity of O(log(min(m, n))). By carefully selecting partition points `splitA` and `splitB`, we could then calculate the median based on the max values on the left and the min values on the right of the partition.\n",
    "\n",
    "**Key Insight**: Partitioning allows efficient comparison and adjustment to find the median by balancing the left and right halves across the two arrays.\n"
   ]
  },
  {
   "cell_type": "code",
   "execution_count": 3,
   "id": "5c9a997c",
   "metadata": {},
   "outputs": [
    {
     "name": "stdout",
     "output_type": "stream",
     "text": [
      "Median of [1, 3] and [2]: 2\n",
      "Median of [1, 2] and [3, 4]: 2.5\n",
      "Median of [0, 0] and [0, 0]: 0.0\n",
      "Median of [] and [1]: 1\n",
      "Median of [2] and []: 2\n"
     ]
    }
   ],
   "source": [
    "\n",
    "# Solution Testing\n",
    "# Example test cases to validate the solution function\n",
    "\n",
    "# Test case 1\n",
    "nums1 = [1, 3]\n",
    "nums2 = [2]\n",
    "print(\"Median of [1, 3] and [2]:\", findMedianSortedArrays(nums1, nums2))  # Expected output: 2.0\n",
    "\n",
    "# Test case 2\n",
    "nums1 = [1, 2]\n",
    "nums2 = [3, 4]\n",
    "print(\"Median of [1, 2] and [3, 4]:\", findMedianSortedArrays(nums1, nums2))  # Expected output: 2.5\n",
    "\n",
    "# Test case 3\n",
    "nums1 = [0, 0]\n",
    "nums2 = [0, 0]\n",
    "print(\"Median of [0, 0] and [0, 0]:\", findMedianSortedArrays(nums1, nums2))  # Expected output: 0.0\n",
    "\n",
    "# Test case 4\n",
    "nums1 = []\n",
    "nums2 = [1]\n",
    "print(\"Median of [] and [1]:\", findMedianSortedArrays(nums1, nums2))  # Expected output: 1.0\n",
    "\n",
    "# Test case 5\n",
    "nums1 = [2]\n",
    "nums2 = []\n",
    "print(\"Median of [2] and []:\", findMedianSortedArrays(nums1, nums2))  # Expected output: 2.0\n"
   ]
  }
 ],
 "metadata": {
  "kernelspec": {
   "display_name": "base",
   "language": "python",
   "name": "python3"
  },
  "language_info": {
   "codemirror_mode": {
    "name": "ipython",
    "version": 3
   },
   "file_extension": ".py",
   "mimetype": "text/x-python",
   "name": "python",
   "nbconvert_exporter": "python",
   "pygments_lexer": "ipython3",
   "version": "3.11.7"
  }
 },
 "nbformat": 4,
 "nbformat_minor": 5
}
