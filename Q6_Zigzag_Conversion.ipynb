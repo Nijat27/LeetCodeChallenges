{
 "cells": [
  {
   "cell_type": "markdown",
   "id": "cce2ef9a",
   "metadata": {},
   "source": [
    "# LeetCode Question #6: Zigzag Conversion"
   ]
  },
  {
   "cell_type": "markdown",
   "id": "537a91b9",
   "metadata": {},
   "source": [
    "\n",
    "## Problem\n",
    "Convert a given string to a zigzag pattern on a given number of rows, then read it row by row.\n",
    "\n",
    "For example, given the string `\"PAYPALISHIRING\"` and `numRows = 3`, the output should be `\"PAHNAPLSIIGYIR\"`.\n",
    "\n",
    "## Example\n",
    "- **Input:** s = \"PAYPALISHIRING\", numRows = 4\n",
    "- **Output:** \"PINALSIGYAHRPI\"\n",
    "\n",
    "**Explanation:**\n",
    "\n",
    "```\n",
    "P     I    N\n",
    "A   L S  I G\n",
    "Y A   H R\n",
    "P     I\n",
    "```\n",
    " \n"
   ]
  },
  {
   "cell_type": "markdown",
   "id": "1ee7b9fd",
   "metadata": {},
   "source": [
    "\n",
    "## Suitable Data Structures and Algorithms\n",
    "- **Data Structures**: List (array) to store each row's characters.\n",
    "- **Algorithm**: Zigzag traversal pattern using index management to build rows.\n",
    "  - Move downwards in rows until the last row, then upwards back to the first row.\n"
   ]
  },
  {
   "cell_type": "markdown",
   "id": "5502beb6",
   "metadata": {},
   "source": [
    "\n",
    "## Solution Logic\n",
    "1. Create a list of strings for each row.\n",
    "2. Traverse the input string character by character:\n",
    "   - Append each character to the current row's list.\n",
    "   - Move the row index up or down based on the zigzag pattern.\n",
    "3. Combine all rows to form the zigzag string output.\n"
   ]
  },
  {
   "cell_type": "code",
   "execution_count": null,
   "id": "337a4abf",
   "metadata": {},
   "outputs": [],
   "source": [
    "def convert_zigzag(s,num_rows):\n",
    "    # extreme\n",
    "    if num_rows == 1 or num_rows >= len(s):\n",
    "        return s\n",
    "    \n",
    "    # init\n",
    "    result = ['']*num_rows\n",
    "    cur_row = 0\n",
    "    go_down = False\n",
    "\n",
    "    # loop \n",
    "    for char in s:\n",
    "        result[cur_row] += char\n",
    "        if cur_row == 0 or cur_row == num_rows-1:\n",
    "            go_down = not go_down\n",
    "        cur_row += 1 if go_down else -1\n",
    "    \n",
    "    # return\n",
    "    return ''.join(result)\n",
    "    \n",
    "\n"
   ]
  },
  {
   "cell_type": "code",
   "execution_count": 2,
   "id": "53f4d4c7",
   "metadata": {},
   "outputs": [
    {
     "name": "stdout",
     "output_type": "stream",
     "text": [
      "Input: 'PAYPALISHIRING' with numRows = 3 | Expected: 'PAHNAPLSIIGYIR' | Got: 'PAHNAPLSIIGYIR'\n",
      "Input: 'PAYPALISHIRING' with numRows = 4 | Expected: 'PINALSIGYAHRPI' | Got: 'PINALSIGYAHRPI'\n",
      "All tests passed.\n"
     ]
    }
   ],
   "source": [
    "\n",
    "# Testing the function with examples\n",
    "test_cases = [(\"PAYPALISHIRING\", 3, \"PAHNAPLSIIGYIR\"), (\"PAYPALISHIRING\", 4, \"PINALSIGYAHRPI\")]\n",
    "for s, numRows, expected in test_cases:\n",
    "    result = convert_zigzag(s, numRows)\n",
    "    print(f\"Input: '{s}' with numRows = {numRows} | Expected: '{expected}' | Got: '{result}'\")\n",
    "    assert result == expected, f\"Test failed for input: {s}\"\n",
    "print(\"All tests passed.\")\n"
   ]
  },
  {
   "cell_type": "markdown",
   "id": "de8f0dd0",
   "metadata": {},
   "source": [
    "\n",
    "## Summary and Important Learning Points\n",
    "- **Zigzag traversal**: Key concept is moving down until reaching the bottom row, then moving up to create a zigzag pattern.\n",
    "- **List-based row storage**: Using lists for each row simplifies the row-by-row reading.\n",
    "- **Edge cases**:\n",
    "  - Single row (`numRows = 1`): Return the string as is.\n",
    "  - Fewer characters than rows: Also return the string as is.\n",
    "- **Optimization**: Minimize row changes to handle larger strings efficiently.\n"
   ]
  }
 ],
 "metadata": {
  "kernelspec": {
   "display_name": "base",
   "language": "python",
   "name": "python3"
  },
  "language_info": {
   "codemirror_mode": {
    "name": "ipython",
    "version": 3
   },
   "file_extension": ".py",
   "mimetype": "text/x-python",
   "name": "python",
   "nbconvert_exporter": "python",
   "pygments_lexer": "ipython3",
   "version": "3.11.7"
  }
 },
 "nbformat": 4,
 "nbformat_minor": 5
}
