{
 "cells": [
  {
   "cell_type": "markdown",
   "id": "785a59d5",
   "metadata": {},
   "source": [
    "# LeetCode Q5: Longest Palindromic Substring"
   ]
  },
  {
   "cell_type": "markdown",
   "id": "7ad6193c",
   "metadata": {},
   "source": [
    "\n",
    "## Problem\n",
    "Given a string `s`, return the longest palindromic substring in `s`.\n",
    "\n",
    "A palindrome is a string that reads the same forward and backward.\n",
    "\n",
    "### Example:\n",
    "Input: `s = \"babad\"`  \n",
    "Output: `\"bab\"` (or `\"aba\"`)\n",
    "\n",
    "Input: `s = \"cbbd\"`  \n",
    "Output: `\"bb\"`\n",
    "\n",
    "### Constraints:\n",
    "- `1 <= s.length <= 1000`\n",
    "- `s` consists of only digits and English letters.\n"
   ]
  },
  {
   "cell_type": "markdown",
   "id": "023749bc",
   "metadata": {},
   "source": [
    "\n",
    "## Recommended Approach\n",
    "This problem can be solved using a dynamic programming approach to keep track of palindromic substrings, or by expanding around the center of potential palindromic strings. The latter is more efficient, with a time complexity of O(n^2), and avoids the extra space required for a dynamic programming table.\n"
   ]
  },
  {
   "cell_type": "code",
   "execution_count": null,
   "id": "04b1a3b5",
   "metadata": {},
   "outputs": [],
   "source": [
    "\n",
    "# Solution Logic:\n",
    "# 1. Iterate through each character in the string, considering each character (and each pair) as a potential palindrome center.\n",
    "# 2. Expand around the center to check the longest palindrome that can be formed.\n",
    "# 3. Update the longest palindrome substring when a longer one is found.\n",
    "# 4. Return the longest palindromic substring after checking all possible centers.\n"
   ]
  },
  {
   "cell_type": "code",
   "execution_count": null,
   "id": "affba182",
   "metadata": {},
   "outputs": [],
   "source": [
    "\n",
    "def longestPalindrome(s):\n",
    "    # helper \n",
    "    def expand_around_center(left, right):\n",
    "        while left>=0 and right<len(s) and s[left]==s[right]:\n",
    "            left -= 1\n",
    "            right += 1\n",
    "        return s[left+1:right]\n",
    "    \n",
    "    # empty or one\n",
    "    if len(s)<2:\n",
    "        return s \n",
    "    \n",
    "    longest = \"\"\n",
    "    for i in range(len(s)):\n",
    "        # odd 'aca'\n",
    "        odd_pal = expand_around_center(i,i)\n",
    "        # even 'acca'\n",
    "        even_pal= expand_around_center(i,i+1)\n",
    "\n",
    "        longest = max(longest, odd_pal, even_pal, key=len)\n",
    "    return longest \n"
   ]
  },
  {
   "cell_type": "code",
   "execution_count": 12,
   "id": "7ea2f38a",
   "metadata": {},
   "outputs": [
    {
     "name": "stdout",
     "output_type": "stream",
     "text": [
      "Longest Palindromic Substring in 'babad': bab\n",
      "Longest Palindromic Substring in 'cbbd': bb\n",
      "Longest Palindromic Substring in 'a': a\n",
      "Longest Palindromic Substring in 'ac': a\n",
      "Longest Palindromic Substring in 'racecar': racecar\n"
     ]
    }
   ],
   "source": [
    "# Solution Testing\n",
    "# Example test cases to validate the solution function\n",
    "\n",
    "# Test case 1\n",
    "s = \"babad\"\n",
    "print(\"Longest Palindromic Substring in 'babad':\", longestPalindrome(s))  # Expected output: 'bab' or 'aba'\n",
    "\n",
    "# Test case 2\n",
    "s = \"cbbd\"\n",
    "print(\"Longest Palindromic Substring in 'cbbd':\", longestPalindrome(s))  # Expected output: 'bb'\n",
    "\n",
    "# Test case 3\n",
    "s = \"a\"\n",
    "print(\"Longest Palindromic Substring in 'a':\", longestPalindrome(s))  # Expected output: 'a'\n",
    "\n",
    "# Test case 4\n",
    "s = \"ac\"\n",
    "print(\"Longest Palindromic Substring in 'ac':\", longestPalindrome(s))  # Expected output: 'a' or 'c'\n",
    "\n",
    "# Test case 5\n",
    "s = \"racecar\"\n",
    "print(\"Longest Palindromic Substring in 'racecar':\", longestPalindrome(s))  # Expected output: 'racecar'\n"
   ]
  },
  {
   "cell_type": "markdown",
   "id": "57c13f94",
   "metadata": {},
   "source": [
    "\n",
    "## Summary\n",
    "To find the longest palindromic substring, we expanded around each character (and each pair) as a potential center of a palindrome. This allowed us to efficiently find the longest palindromic substring without using extra space, achieving a time complexity of O(n^2). This approach is effective for problems where we need to identify a symmetrical pattern in strings.\n",
    "\n",
    "**Key Insight**: Expanding around centers reduces the need for additional space and efficiently locates palindromic substrings.\n"
   ]
  }
 ],
 "metadata": {
  "kernelspec": {
   "display_name": "base",
   "language": "python",
   "name": "python3"
  },
  "language_info": {
   "codemirror_mode": {
    "name": "ipython",
    "version": 3
   },
   "file_extension": ".py",
   "mimetype": "text/x-python",
   "name": "python",
   "nbconvert_exporter": "python",
   "pygments_lexer": "ipython3",
   "version": "3.11.7"
  }
 },
 "nbformat": 4,
 "nbformat_minor": 5
}
