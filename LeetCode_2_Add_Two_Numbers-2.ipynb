{
 "cells": [
  {
   "cell_type": "markdown",
   "id": "de39fa1f",
   "metadata": {},
   "source": [
    "# LeetCode #2: Add Two Numbers\n",
    "\n",
    "## Problem:\n",
    "You are given two non-empty linked lists representing two non-negative integers. The digits are stored in reverse order, and each of their nodes contains a single digit. Add the two numbers and return the sum as a linked list.\n",
    "\n",
    "You may assume the two numbers do not contain any leading zero, except the number 0 itself.\n",
    "\n",
    "### Example:\n",
    "- Input: `l1 = [2,4,3]`  represents 342, `l2 = [5,6,4]` represensts 465\n",
    "- Output: `[7,0,8]`  represents 807\n",
    "- Explanation: `342 + 465 = 807`.\n",
    "\n",
    "### Instructions:\n",
    "Implement a solution to add two numbers represented by linked lists.\n",
    "\n",
    "### Data Structures for Solving Add Two Numbers Problem\n",
    "- Linked List: Represents numbers with each digit in a node in reverse order.\n",
    "- Pointers/References: Traverse the linked lists and calculate sums at each digit.\n",
    "\n",
    "\n",
    "### Example Walkthrough:\n",
    "- Input: `l1 = [2, 4, 3]`, `l2 = [5, 6, 4]`\n",
    "- Output: `[7, 0, 8]` because `342 + 465 = 807`\n"
   ]
  },
  {
   "cell_type": "code",
   "execution_count": 2,
   "id": "a3c2284f",
   "metadata": {},
   "outputs": [],
   "source": [
    "### Logic:\n",
    "# 1. Create a LinkedList class and helper functions. (Review LinkedList)\n",
    "# 2. Initialize a dummy node and a current pointer to build the result linked list.\n",
    "# 3. Initialize a carry variable to keep track of carry-over values when sums exceed 9.\n",
    "# 4. Traverse both linked lists:\n",
    "#    - Add the values of current nodes (if present) from `l1` and `l2` along with carry.\n",
    "#   - Update carry as the integer division of the sum by 10.\n",
    "#   - Store the unit digit of the sum in the new linked list.\n",
    "# 5. If there is a remaining carry after the lists are exhausted, add a new node with the carry value."
   ]
  },
  {
   "cell_type": "code",
   "execution_count": 6,
   "id": "4b29b805",
   "metadata": {},
   "outputs": [],
   "source": [
    "# Node Class:\n",
    "# (1. value  2. next pointer)\n",
    "#  2 -> 4 -> 3 ->  (first node: ②->  second node  ④->    third node ③-> )\n",
    "\n",
    "\n",
    "# Helper function to convert list to linked list:\n",
    "#     [2,4,3]   to   2 -> 4 -> 3 -> None\n",
    "# \n",
    "#       dummy ->num1->num2-> None\n",
    "#                       ↑      \n",
    "#                    pointer  \n",
    "\n",
    "\n",
    "# Helper function to print a linked list\n",
    "#    2 -> 4 -> 3 -> None\n",
    "\n",
    "\n",
    "# Helper function to convert a linked list to a list:\n",
    "# 2 -> 4 -> 3 -> None    to   [2,4,3]\n",
    "\n"
   ]
  },
  {
   "cell_type": "code",
   "execution_count": null,
   "id": "ed5a3d4f",
   "metadata": {},
   "outputs": [],
   "source": [
    "list1 = [2,4,3]  #represents 342\n",
    "list2 = [5,6,4]  #represents 465\n",
    "\n",
    "# Test to_linked and print_linked\n",
    "l1 = to_linked(list1)\n",
    "print_linked(l1)\n",
    "l2 = to_linked(list2)\n",
    "print_linked(l2)\n",
    "\n",
    "# Test to_list\n",
    "print(to_list(l1))\n",
    "print(to_list(l2))\n"
   ]
  },
  {
   "cell_type": "code",
   "execution_count": 8,
   "id": "fc00aa10",
   "metadata": {},
   "outputs": [],
   "source": [
    "# Function to add two numbers represented by linked lists\n",
    "\n",
    "    \n",
    "\n"
   ]
  },
  {
   "cell_type": "code",
   "execution_count": null,
   "id": "1eef6356",
   "metadata": {},
   "outputs": [],
   "source": [
    "# Testing the solution\n",
    "# Input: l1 = [2, 4, 3], l2 = [5, 6, 4]\n",
    "# Expected Output: [7, 0, 8]\n",
    "\n",
    "# Test the add_two_numbers function\n",
    "result = add_two(l1, l2)\n",
    "print_linked(result)\n",
    "print(\"Output as list:\", to_list(result))  # Expected output: [7, 0, 8]\n"
   ]
  },
  {
   "cell_type": "markdown",
   "id": "bc5ce976",
   "metadata": {},
   "source": [
    "## Summary and Reflection\n",
    "\n",
    "After completing the exercise, reflect on the following questions:\n",
    "\n",
    "1. Why does the solution use a carry variable?\n",
    "2. How does this solution manage cases where the lists are of different lengths?\n",
    "3. Could there be other approaches to solve this problem? If so, what might they look like?\n",
    "\n",
    "### Write your reflections here:\n",
    "- The carry variable is crucial to handle cases where the sum of two digits exceeds 9.\n",
    "- When lists are of different lengths, the solution treats missing nodes as zero by using conditional checks.\n",
    "- Alternative approaches could include converting the linked lists to integers, adding them, and then reconstructing a linked list, though this might require extra space and time complexity depending on the length of the lists.\n"
   ]
  }
 ],
 "metadata": {
  "kernelspec": {
   "display_name": "base",
   "language": "python",
   "name": "python3"
  },
  "language_info": {
   "codemirror_mode": {
    "name": "ipython",
    "version": 3
   },
   "file_extension": ".py",
   "mimetype": "text/x-python",
   "name": "python",
   "nbconvert_exporter": "python",
   "pygments_lexer": "ipython3",
   "version": "3.11.7"
  }
 },
 "nbformat": 4,
 "nbformat_minor": 5
}
