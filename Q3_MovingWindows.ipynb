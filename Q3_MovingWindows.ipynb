{
 "cells": [
  {
   "cell_type": "markdown",
   "id": "c82d5604",
   "metadata": {},
   "source": [
    "# LeetCode 3: Longest Substring Without Repeating Characters"
   ]
  },
  {
   "cell_type": "markdown",
   "id": "01b6355c",
   "metadata": {},
   "source": [
    "\n",
    "### Problem Statement\n",
    "Given a string `s`, find the length of the longest substring without repeating characters.\n",
    "\n",
    "#### Example:\n",
    "1. **Input**: `s = \"abcabcbb\"`  \n",
    "   **Output**: `3`  \n",
    "   **Explanation**: The answer is `\"abc\"`, with the length of 3.\n",
    "\n",
    "2. **Input**: `s = \"bbbbb\"`  \n",
    "   **Output**: `1`  \n",
    "   **Explanation**: The answer is `\"b\"`, with the length of 1.\n",
    "\n",
    "3. **Input**: `s = \"pwwkew\"`  \n",
    "   **Output**: `3`  \n",
    "   **Explanation**: The answer is `\"wke\"`, with the length of 3.\n",
    "\n",
    "#### Constraints:\n",
    "- `0 <= s.length <= 5 * 10^4`\n",
    "- `s` consists of English letters, digits, symbols, and spaces.\n",
    "    "
   ]
  },
  {
   "cell_type": "markdown",
   "id": "fb897a4a",
   "metadata": {},
   "source": [
    "\n",
    "### Data Structure Recommendation\n",
    "- To solve this problem efficiently, we can use the **\"Sliding Window\"** technique combined with a **HashSet** (or dictionary).\n",
    "- The **Sliding Window** allows us to:\n",
    "  - Move through the string in a continuous manner.\n",
    "  - Avoid re-evaluating parts of the string multiple times.\n",
    "- The **HashSet** keeps track of characters within the current window to ensure all characters are unique.\n",
    "- This approach achieves an **O(n) time complexity**, making it optimal for large inputs by minimizing redundant checks.\n",
    "\n",
    "    "
   ]
  },
  {
   "cell_type": "markdown",
   "id": "47817947",
   "metadata": {},
   "source": [
    "### Sliding Window Technique Explained\n",
    "\n",
    "- The **sliding window** technique is like moving a \"window\" over a sequence (like letters in a word).\n",
    "- Start with a small window showing part of the sequence.\n",
    "- **Expand the window** to check more as you go.\n",
    "- If you find an issue (like a **repeat character**), move the window over by **removing old parts** on the left.\n",
    "- This keeps only the **needed parts** in view, so you don’t have to start over.\n",
    "- It’s **fast and efficient** because you check each part only once, great for **finding patterns quickly**.\n",
    "\n"
   ]
  },
  {
   "cell_type": "code",
   "execution_count": 5,
   "id": "a3738437",
   "metadata": {},
   "outputs": [],
   "source": [
    "# Simplified approach\n",
    "# 1. Set up two pointers: `left` (start of window) and `right` (end of window).\n",
    "# 2. Use a `set` to store unique characters in the window.\n",
    "# 3. Move `right` to add characters; if there’s a repeat, move `left` to remove it.\n",
    "# 4. Keep updating the length of the longest unique substring.\n",
    "# 5. Repeat until `right` reaches the end of the string.\n",
    "\n"
   ]
  },
  {
   "cell_type": "code",
   "execution_count": null,
   "id": "1a791b9b",
   "metadata": {},
   "outputs": [],
   "source": [
    "# Test the function\n",
    "print(len_longest_substr(\"abcabcbb\"))  # Expected output: 3\n",
    "print(len_longest_substr(\"bbbbb\"))     # Expected output: 1\n",
    "print(len_longest_substr(\"pwwkew\"))    # Expected output: 3"
   ]
  },
  {
   "cell_type": "markdown",
   "id": "6ebe92f1",
   "metadata": {},
   "source": [
    "# Tracing Steps for `s = \"abcabcbb\"`\n",
    "\n",
    "| Step | `right` | `s[right]` | `left` | `char_set`           | `max_length` | Action                                   |\n",
    "|------|---------|------------|--------|-----------------------|--------------|------------------------------------------|\n",
    "| 1    | 0       | 'a'        | 0      | {'a'}                | 1            | Add 'a' to set, update `max_length`      |\n",
    "| 2    | 1       | 'b'        | 0      | {'a', 'b'}           | 2            | Add 'b' to set, update `max_length`      |\n",
    "| 3    | 2       | 'c'        | 0      | {'a', 'b', 'c'}      | 3            | Add 'c' to set, update `max_length`      |\n",
    "| 4    | 3       | 'a'        | 1      | {'b', 'c', 'a'}      | 3            | 'a' duplicate, remove 'a' and move `left`|\n",
    "| 5    | 4       | 'b'        | 2      | {'c', 'a', 'b'}      | 3            | 'b' duplicate, remove 'b' and move `left`|\n",
    "| 6    | 5       | 'c'        | 3      | {'a', 'b', 'c'}      | 3            | 'c' duplicate, remove 'c' and move `left`|\n",
    "| 7    | 6       | 'b'        | 5      | {'b'}                | 3            | 'b' duplicate, remove 'a' and move `left`|\n",
    "| 8    | 7       | 'b'        | 6      | {'b'}                | 3            | 'b' duplicate, no further update         |\n"
   ]
  },
  {
   "cell_type": "markdown",
   "id": "2fdb7ed8",
   "metadata": {},
   "source": [
    "\n",
    "### Summary\n",
    "In this notebook, we solved the problem \"Longest Substring Without Repeating Characters\" using a sliding window \n",
    "approach with a HashSet to efficiently track unique characters in the substring. This method provides an O(n) \n",
    "solution by expanding and contracting the window as we detect duplicate characters. The solution is optimal \n",
    "for this type of substring problem, where we aim to balance memory usage with runtime efficiency.\n",
    "    "
   ]
  }
 ],
 "metadata": {
  "kernelspec": {
   "display_name": "base",
   "language": "python",
   "name": "python3"
  },
  "language_info": {
   "codemirror_mode": {
    "name": "ipython",
    "version": 3
   },
   "file_extension": ".py",
   "mimetype": "text/x-python",
   "name": "python",
   "nbconvert_exporter": "python",
   "pygments_lexer": "ipython3",
   "version": "3.11.7"
  }
 },
 "nbformat": 4,
 "nbformat_minor": 5
}
