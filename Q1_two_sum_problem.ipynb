{
 "cells": [
  {
   "cell_type": "markdown",
   "id": "e58b25f4",
   "metadata": {},
   "source": [
    "# Leetcode #1 Two Sum Problem\n",
    "Given an array of integers `nums` and an integer `target`, return the indices of the two numbers such that they add up to `target`.\n",
    "\n",
    "Each input will have exactly one solution, and you may not use the same element twice.\n",
    "\n",
    "## Example:\n",
    "Input: nums = [2, 7, 11, 15], target = 9  \n",
    "Output: [0, 1]\n",
    "\n",
    "### Explanation:\n",
    "Because nums[0] + nums[1] == 9, we return [0, 1].\n",
    "\n",
    "## Instructions:\n",
    "Solve the problem using two approaches:\n",
    "1. Brute Force Solution\n",
    "2. Optimized Solution using a Hash Map (Dictionary)"
   ]
  },
  {
   "cell_type": "markdown",
   "id": "6508157d",
   "metadata": {},
   "source": [
    "### Data Structures for Solving Two Sum Problem\n",
    "- **Array/List**: Used to store the input numbers. You can iterate through the array to find two numbers that sum up to the target value.\n",
    "- **Hash Map/Dictionary**: This data structure can be used to store each number and its corresponding index as you iterate through the array. It allows for fast lookups, reducing the time complexity to O(n)."
   ]
  },
  {
   "cell_type": "markdown",
   "id": "89d75e96",
   "metadata": {},
   "source": [
    "### Brute Force Solution"
   ]
  },
  {
   "cell_type": "code",
   "execution_count": 1,
   "id": "934acd04",
   "metadata": {},
   "outputs": [],
   "source": [
    "# Logic:\n",
    "# 1. Loop through each element `i` in the array.\n",
    "# 2. For each element `i`, loop through every subsequent element `j` (i.e., from `i+1` to the end).\n",
    "# 3. Check if nums[i] + nums[j] equals the target.\n",
    "# 4. If the condition is met, return their indices.\n",
    "# [2, 7, 11, 15]  9\n",
    "\n",
    "def two_sum_brute(nums, target):\n",
    "    for i in range(len(nums)): # [2, 7, 11, 15]\n",
    "        for j in range(i+1, len(nums)):# [2, 7, 11, 15]\n",
    "            if nums[i] + nums[j] == target:\n",
    "                return [i,j]\n",
    "\n",
    "\n",
    "\n",
    "\n",
    "\n",
    "\n",
    "\n",
    "\n"
   ]
  },
  {
   "cell_type": "markdown",
   "id": "819cfb40",
   "metadata": {},
   "source": [
    "### Optimized Solution using a Hash Map (Dictionary)"
   ]
  },
  {
   "cell_type": "code",
   "execution_count": 3,
   "id": "a704c4e1",
   "metadata": {},
   "outputs": [],
   "source": [
    "# Logic:\n",
    "# 1. Initialize an empty hash map to store numbers and their indices.\n",
    "# 2. Loop through the array using `enumerate` to get both index `i` and value `num`.\n",
    "# 3. Calculate the complement by subtracting `num` from the target.\n",
    "# 4. Check if the complement is already in the hash map:\n",
    "#    - If yes, return the indices (hash_map[complement] and i).\n",
    "#    - If not, store the current number and its index in the hash map.\n",
    "\n",
    "# nums = [2,7,11,15] target = 9\n",
    "# hash_map = {}\n",
    "# [2,7,11,15] enumerate --> 2:0, 7:1, 11:2, 15:3\n",
    "# first iterartion ---> 2:0\n",
    "# complement = 9 - 2 = 7\n",
    "# if 7 in hash_map \n",
    "# hash_map = {2:0}\n",
    "# second iterartion ---> 7:1 \n",
    "# complement = 9 - 7 = 2\n",
    "# if 2 in hash_map\n",
    "# return [hash_map[complement],i] = [0,1]\n",
    "\n",
    "# **Write your optimized solution here:**\n",
    "def two_sum_optimized(nums, target):\n",
    "    hash_map = {}\n",
    "    for i , num in enumerate(nums):\n",
    "        complement = target - num\n",
    "        if complement in hash_map:\n",
    "            return [hash_map[complement], i]\n",
    "        hash_map[num] = i \n",
    "\n",
    "\n",
    "\n",
    "\n",
    "\n",
    "\n",
    "\n",
    "    \n",
    "\n",
    "\n"
   ]
  },
  {
   "cell_type": "markdown",
   "id": "ea841a2f",
   "metadata": {},
   "source": [
    "### Testing the solutions"
   ]
  },
  {
   "cell_type": "code",
   "execution_count": 4,
   "id": "73a5a165",
   "metadata": {},
   "outputs": [
    {
     "name": "stdout",
     "output_type": "stream",
     "text": [
      "[0, 1]\n"
     ]
    }
   ],
   "source": [
    "# Input: nums = [2, 7, 11, 15], target = 9\n",
    "# Expected Output: [0, 1]\n",
    "\n",
    "nums = [2, 7, 11, 15]\n",
    "target = 9\n",
    "\n",
    "# Test your brute force solution\n",
    "#print(two_sum_brute(nums, target))\n",
    "\n",
    "\n",
    "# Test your optimized solution\n",
    "print(two_sum_optimized(nums, target))\n",
    "\n"
   ]
  },
  {
   "cell_type": "markdown",
   "id": "41bab68d",
   "metadata": {},
   "source": [
    "## Summary\n",
    "After completing the exercise, reflect on the following questions:\n",
    "1. How does the brute force solution compare in terms of time complexity?\n",
    "2. Why does the hash map solution improve performance?\n",
    "3. Could there be other approaches to solve this problem? If so, how would they compare?\n",
    "\n",
    "### **Write your reflections here:**\n",
    "\n",
    "\n"
   ]
  }
 ],
 "metadata": {
  "kernelspec": {
   "display_name": "base",
   "language": "python",
   "name": "python3"
  },
  "language_info": {
   "codemirror_mode": {
    "name": "ipython",
    "version": 3
   },
   "file_extension": ".py",
   "mimetype": "text/x-python",
   "name": "python",
   "nbconvert_exporter": "python",
   "pygments_lexer": "ipython3",
   "version": "3.11.7"
  }
 },
 "nbformat": 4,
 "nbformat_minor": 5
}
